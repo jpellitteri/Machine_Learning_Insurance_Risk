{
 "cells": [
  {
   "cell_type": "markdown",
   "metadata": {},
   "source": [
    "# Random Forests on 1985 Auto Imports"
   ]
  },
  {
   "cell_type": "code",
   "execution_count": 10,
   "metadata": {},
   "outputs": [],
   "source": [
    "# import libraries\n",
    "import numpy as np\n",
    "import pandas as pd\n",
    "from sklearn.model_selection import train_test_split\n",
    "from sklearn.ensemble import RandomForestClassifier"
   ]
  },
  {
   "cell_type": "code",
   "execution_count": 3,
   "metadata": {},
   "outputs": [
    {
     "data": {
      "text/html": [
       "<div>\n",
       "<style scoped>\n",
       "    .dataframe tbody tr th:only-of-type {\n",
       "        vertical-align: middle;\n",
       "    }\n",
       "\n",
       "    .dataframe tbody tr th {\n",
       "        vertical-align: top;\n",
       "    }\n",
       "\n",
       "    .dataframe thead th {\n",
       "        text-align: right;\n",
       "    }\n",
       "</style>\n",
       "<table border=\"1\" class=\"dataframe\">\n",
       "  <thead>\n",
       "    <tr style=\"text-align: right;\">\n",
       "      <th></th>\n",
       "      <th>symboling</th>\n",
       "      <th>normalized_losses</th>\n",
       "      <th>make</th>\n",
       "      <th>fuel_type</th>\n",
       "      <th>aspiration</th>\n",
       "      <th>num_doors</th>\n",
       "      <th>body_style</th>\n",
       "      <th>drive_wheels</th>\n",
       "      <th>engine_location</th>\n",
       "      <th>wheel_base</th>\n",
       "      <th>...</th>\n",
       "      <th>engine_size</th>\n",
       "      <th>fuel_system</th>\n",
       "      <th>bore</th>\n",
       "      <th>stroke</th>\n",
       "      <th>compression_ratio</th>\n",
       "      <th>horsepower</th>\n",
       "      <th>peak_rpm</th>\n",
       "      <th>city_mpg</th>\n",
       "      <th>highway_mpg</th>\n",
       "      <th>price</th>\n",
       "    </tr>\n",
       "  </thead>\n",
       "  <tbody>\n",
       "    <tr>\n",
       "      <th>0</th>\n",
       "      <td>3</td>\n",
       "      <td>115</td>\n",
       "      <td>0</td>\n",
       "      <td>1</td>\n",
       "      <td>0</td>\n",
       "      <td>1</td>\n",
       "      <td>0</td>\n",
       "      <td>2</td>\n",
       "      <td>0</td>\n",
       "      <td>88.6</td>\n",
       "      <td>...</td>\n",
       "      <td>130</td>\n",
       "      <td>5</td>\n",
       "      <td>3.47</td>\n",
       "      <td>2.68</td>\n",
       "      <td>9.0</td>\n",
       "      <td>111</td>\n",
       "      <td>5000</td>\n",
       "      <td>21</td>\n",
       "      <td>27</td>\n",
       "      <td>13495</td>\n",
       "    </tr>\n",
       "    <tr>\n",
       "      <th>1</th>\n",
       "      <td>3</td>\n",
       "      <td>115</td>\n",
       "      <td>0</td>\n",
       "      <td>1</td>\n",
       "      <td>0</td>\n",
       "      <td>1</td>\n",
       "      <td>0</td>\n",
       "      <td>2</td>\n",
       "      <td>0</td>\n",
       "      <td>88.6</td>\n",
       "      <td>...</td>\n",
       "      <td>130</td>\n",
       "      <td>5</td>\n",
       "      <td>3.47</td>\n",
       "      <td>2.68</td>\n",
       "      <td>9.0</td>\n",
       "      <td>111</td>\n",
       "      <td>5000</td>\n",
       "      <td>21</td>\n",
       "      <td>27</td>\n",
       "      <td>16500</td>\n",
       "    </tr>\n",
       "    <tr>\n",
       "      <th>2</th>\n",
       "      <td>1</td>\n",
       "      <td>115</td>\n",
       "      <td>0</td>\n",
       "      <td>1</td>\n",
       "      <td>0</td>\n",
       "      <td>1</td>\n",
       "      <td>2</td>\n",
       "      <td>2</td>\n",
       "      <td>0</td>\n",
       "      <td>94.5</td>\n",
       "      <td>...</td>\n",
       "      <td>152</td>\n",
       "      <td>5</td>\n",
       "      <td>2.68</td>\n",
       "      <td>3.47</td>\n",
       "      <td>9.0</td>\n",
       "      <td>154</td>\n",
       "      <td>5000</td>\n",
       "      <td>19</td>\n",
       "      <td>26</td>\n",
       "      <td>16500</td>\n",
       "    </tr>\n",
       "    <tr>\n",
       "      <th>3</th>\n",
       "      <td>2</td>\n",
       "      <td>164</td>\n",
       "      <td>1</td>\n",
       "      <td>1</td>\n",
       "      <td>0</td>\n",
       "      <td>0</td>\n",
       "      <td>3</td>\n",
       "      <td>1</td>\n",
       "      <td>0</td>\n",
       "      <td>99.8</td>\n",
       "      <td>...</td>\n",
       "      <td>109</td>\n",
       "      <td>5</td>\n",
       "      <td>3.19</td>\n",
       "      <td>3.40</td>\n",
       "      <td>10.0</td>\n",
       "      <td>102</td>\n",
       "      <td>5500</td>\n",
       "      <td>24</td>\n",
       "      <td>30</td>\n",
       "      <td>13950</td>\n",
       "    </tr>\n",
       "    <tr>\n",
       "      <th>4</th>\n",
       "      <td>2</td>\n",
       "      <td>164</td>\n",
       "      <td>1</td>\n",
       "      <td>1</td>\n",
       "      <td>0</td>\n",
       "      <td>0</td>\n",
       "      <td>3</td>\n",
       "      <td>0</td>\n",
       "      <td>0</td>\n",
       "      <td>99.4</td>\n",
       "      <td>...</td>\n",
       "      <td>136</td>\n",
       "      <td>5</td>\n",
       "      <td>3.19</td>\n",
       "      <td>3.40</td>\n",
       "      <td>8.0</td>\n",
       "      <td>115</td>\n",
       "      <td>5500</td>\n",
       "      <td>18</td>\n",
       "      <td>22</td>\n",
       "      <td>17450</td>\n",
       "    </tr>\n",
       "  </tbody>\n",
       "</table>\n",
       "<p>5 rows × 26 columns</p>\n",
       "</div>"
      ],
      "text/plain": [
       "   symboling  normalized_losses  make  fuel_type  aspiration  num_doors  \\\n",
       "0          3                115     0          1           0          1   \n",
       "1          3                115     0          1           0          1   \n",
       "2          1                115     0          1           0          1   \n",
       "3          2                164     1          1           0          0   \n",
       "4          2                164     1          1           0          0   \n",
       "\n",
       "   body_style  drive_wheels  engine_location  wheel_base  ...  engine_size  \\\n",
       "0           0             2                0        88.6  ...          130   \n",
       "1           0             2                0        88.6  ...          130   \n",
       "2           2             2                0        94.5  ...          152   \n",
       "3           3             1                0        99.8  ...          109   \n",
       "4           3             0                0        99.4  ...          136   \n",
       "\n",
       "   fuel_system  bore  stroke  compression_ratio  horsepower  peak_rpm  \\\n",
       "0            5  3.47    2.68                9.0         111      5000   \n",
       "1            5  3.47    2.68                9.0         111      5000   \n",
       "2            5  2.68    3.47                9.0         154      5000   \n",
       "3            5  3.19    3.40               10.0         102      5500   \n",
       "4            5  3.19    3.40                8.0         115      5500   \n",
       "\n",
       "   city_mpg  highway_mpg  price  \n",
       "0        21           27  13495  \n",
       "1        21           27  16500  \n",
       "2        19           26  16500  \n",
       "3        24           30  13950  \n",
       "4        18           22  17450  \n",
       "\n",
       "[5 rows x 26 columns]"
      ]
     },
     "execution_count": 3,
     "metadata": {},
     "output_type": "execute_result"
    }
   ],
   "source": [
    "# upload data file, view to first 5 records\n",
    "path = (r\"C:\\Users\\Jwpel\\Downloads\")\n",
    "filename = \"\\1985_auto_imports.csv\"\n",
    "df = pd.read_csv(r\"C:\\Users\\Jwpel\\Downloads\\1985_auto_imports.csv\")\n",
    "df.head()\n",
    "                            \n"
   ]
  },
  {
   "cell_type": "code",
   "execution_count": 4,
   "metadata": {},
   "outputs": [
    {
     "data": {
      "text/plain": [
       "(205, 26)"
      ]
     },
     "execution_count": 4,
     "metadata": {},
     "output_type": "execute_result"
    }
   ],
   "source": [
    "# data shape\n",
    "df.shape"
   ]
  },
  {
   "cell_type": "code",
   "execution_count": 5,
   "metadata": {},
   "outputs": [
    {
     "name": "stdout",
     "output_type": "stream",
     "text": [
      "<class 'pandas.core.frame.DataFrame'>\n",
      "RangeIndex: 205 entries, 0 to 204\n",
      "Data columns (total 26 columns):\n",
      "symboling            205 non-null int64\n",
      "normalized_losses    205 non-null int64\n",
      "make                 205 non-null int64\n",
      "fuel_type            205 non-null int64\n",
      "aspiration           205 non-null int64\n",
      "num_doors            205 non-null int64\n",
      "body_style           205 non-null int64\n",
      "drive_wheels         205 non-null int64\n",
      "engine_location      205 non-null int64\n",
      "wheel_base           205 non-null float64\n",
      "length               205 non-null float64\n",
      "width                205 non-null float64\n",
      "height               205 non-null float64\n",
      "curb_weight          205 non-null int64\n",
      "engine_type          205 non-null int64\n",
      "num_cylinders        205 non-null int64\n",
      "engine_size          205 non-null int64\n",
      "fuel_system          205 non-null int64\n",
      "bore                 205 non-null float64\n",
      "stroke               205 non-null float64\n",
      "compression_ratio    205 non-null float64\n",
      "horsepower           205 non-null int64\n",
      "peak_rpm             205 non-null int64\n",
      "city_mpg             205 non-null int64\n",
      "highway_mpg          205 non-null int64\n",
      "price                205 non-null int64\n",
      "dtypes: float64(7), int64(19)\n",
      "memory usage: 41.7 KB\n"
     ]
    }
   ],
   "source": [
    "# info on columns, combination of int and float, no missing values\n",
    "df.info()"
   ]
  },
  {
   "cell_type": "code",
   "execution_count": 7,
   "metadata": {},
   "outputs": [
    {
     "name": "stdout",
     "output_type": "stream",
     "text": [
      "<class 'pandas.core.frame.DataFrame'>\n",
      "RangeIndex: 205 entries, 0 to 204\n",
      "Data columns (total 25 columns):\n",
      "normalized_losses    205 non-null int64\n",
      "make                 205 non-null int64\n",
      "fuel_type            205 non-null int64\n",
      "aspiration           205 non-null int64\n",
      "num_doors            205 non-null int64\n",
      "body_style           205 non-null int64\n",
      "drive_wheels         205 non-null int64\n",
      "engine_location      205 non-null int64\n",
      "wheel_base           205 non-null float64\n",
      "length               205 non-null float64\n",
      "width                205 non-null float64\n",
      "height               205 non-null float64\n",
      "curb_weight          205 non-null int64\n",
      "engine_type          205 non-null int64\n",
      "num_cylinders        205 non-null int64\n",
      "engine_size          205 non-null int64\n",
      "fuel_system          205 non-null int64\n",
      "bore                 205 non-null float64\n",
      "stroke               205 non-null float64\n",
      "compression_ratio    205 non-null float64\n",
      "horsepower           205 non-null int64\n",
      "peak_rpm             205 non-null int64\n",
      "city_mpg             205 non-null int64\n",
      "highway_mpg          205 non-null int64\n",
      "price                205 non-null int64\n",
      "dtypes: float64(7), int64(18)\n",
      "memory usage: 40.1 KB\n"
     ]
    }
   ],
   "source": [
    "# assign independent variables \n",
    "X = df.drop([\"symboling\"], axis=1)\n",
    "X.info()"
   ]
  },
  {
   "cell_type": "code",
   "execution_count": 8,
   "metadata": {},
   "outputs": [],
   "source": [
    "# assign target variable\n",
    "y = df[\"symboling\"]"
   ]
  },
  {
   "cell_type": "code",
   "execution_count": 20,
   "metadata": {},
   "outputs": [],
   "source": [
    "# split the dataset between training and test data\n",
    "X_train, X_test, y_train, y_test = train_test_split(X, y, test_size=.20, random_state=9)"
   ]
  },
  {
   "cell_type": "code",
   "execution_count": 36,
   "metadata": {},
   "outputs": [
    {
     "data": {
      "text/plain": [
       "RandomForestClassifier(bootstrap=True, class_weight=None, criterion='gini',\n",
       "            max_depth=None, max_features='auto', max_leaf_nodes=None,\n",
       "            min_impurity_decrease=0.0, min_impurity_split=None,\n",
       "            min_samples_leaf=1, min_samples_split=2,\n",
       "            min_weight_fraction_leaf=0.0, n_estimators=500, n_jobs=None,\n",
       "            oob_score=False, random_state=2, verbose=0, warm_start=False)"
      ]
     },
     "execution_count": 36,
     "metadata": {},
     "output_type": "execute_result"
    }
   ],
   "source": [
    "# create Random Forest Regressor model\n",
    "regr_rf = RandomForestClassifier(max_depth=None, random_state=2, n_estimators=500)\n",
    "regr_rf.fit(X_train, y_train)"
   ]
  },
  {
   "cell_type": "code",
   "execution_count": 37,
   "metadata": {},
   "outputs": [
    {
     "data": {
      "text/plain": [
       "array([ 2,  1,  3, -1,  0, -2,  0,  1, -1,  1,  0,  0,  0,  2,  3,  1,  3,\n",
       "        2,  1,  0,  2,  1, -1,  1,  0,  0,  1,  1,  0,  1,  1,  3,  0,  1,\n",
       "        1,  1,  1, -1,  1,  0,  2], dtype=int64)"
      ]
     },
     "execution_count": 37,
     "metadata": {},
     "output_type": "execute_result"
    }
   ],
   "source": [
    "# assign prediction variable\n",
    "rf_pred = regr_rf.predict(X_test)\n",
    "rf_pred"
   ]
  },
  {
   "cell_type": "code",
   "execution_count": 39,
   "metadata": {},
   "outputs": [
    {
     "data": {
      "text/plain": [
       "0.8292682926829268"
      ]
     },
     "execution_count": 39,
     "metadata": {},
     "output_type": "execute_result"
    }
   ],
   "source": [
    "# import accuracy_score, view accuracy results\n",
    "from sklearn.metrics import r2_score, accuracy_score, confusion_matrix\n",
    "accuracy = accuracy_score(y_test, rf_pred)\n",
    "accuracy"
   ]
  },
  {
   "cell_type": "code",
   "execution_count": 31,
   "metadata": {},
   "outputs": [
    {
     "data": {
      "text/plain": [
       " 0    16\n",
       " 1    10\n",
       " 2     7\n",
       " 3     4\n",
       "-1     3\n",
       "-2     1\n",
       "Name: symboling, dtype: int64"
      ]
     },
     "execution_count": 31,
     "metadata": {},
     "output_type": "execute_result"
    }
   ],
   "source": [
    "# predictions on test set\n",
    "y_test.value_counts()"
   ]
  },
  {
   "cell_type": "code",
   "execution_count": 25,
   "metadata": {},
   "outputs": [
    {
     "data": {
      "text/html": [
       "<div>\n",
       "<style scoped>\n",
       "    .dataframe tbody tr th:only-of-type {\n",
       "        vertical-align: middle;\n",
       "    }\n",
       "\n",
       "    .dataframe tbody tr th {\n",
       "        vertical-align: top;\n",
       "    }\n",
       "\n",
       "    .dataframe thead tr th {\n",
       "        text-align: left;\n",
       "    }\n",
       "</style>\n",
       "<table border=\"1\" class=\"dataframe\">\n",
       "  <thead>\n",
       "    <tr>\n",
       "      <th></th>\n",
       "      <th>Pred:-2</th>\n",
       "      <th>Pred:-1</th>\n",
       "      <th>Pred:0</th>\n",
       "      <th>Pred:1</th>\n",
       "      <th>Pred:2</th>\n",
       "      <th>Pred:3</th>\n",
       "    </tr>\n",
       "  </thead>\n",
       "  <tbody>\n",
       "    <tr>\n",
       "      <th>Act:-2</th>\n",
       "      <td>1</td>\n",
       "      <td>0</td>\n",
       "      <td>0</td>\n",
       "      <td>0</td>\n",
       "      <td>0</td>\n",
       "      <td>0</td>\n",
       "    </tr>\n",
       "    <tr>\n",
       "      <th>Act:-1</th>\n",
       "      <td>0</td>\n",
       "      <td>3</td>\n",
       "      <td>1</td>\n",
       "      <td>0</td>\n",
       "      <td>0</td>\n",
       "      <td>0</td>\n",
       "    </tr>\n",
       "    <tr>\n",
       "      <th>Act:0</th>\n",
       "      <td>0</td>\n",
       "      <td>0</td>\n",
       "      <td>11</td>\n",
       "      <td>0</td>\n",
       "      <td>0</td>\n",
       "      <td>0</td>\n",
       "    </tr>\n",
       "    <tr>\n",
       "      <th>Act:1</th>\n",
       "      <td>0</td>\n",
       "      <td>0</td>\n",
       "      <td>3</td>\n",
       "      <td>10</td>\n",
       "      <td>2</td>\n",
       "      <td>0</td>\n",
       "    </tr>\n",
       "    <tr>\n",
       "      <th>Act:2</th>\n",
       "      <td>0</td>\n",
       "      <td>0</td>\n",
       "      <td>0</td>\n",
       "      <td>0</td>\n",
       "      <td>5</td>\n",
       "      <td>0</td>\n",
       "    </tr>\n",
       "    <tr>\n",
       "      <th>Act:3</th>\n",
       "      <td>0</td>\n",
       "      <td>0</td>\n",
       "      <td>1</td>\n",
       "      <td>0</td>\n",
       "      <td>0</td>\n",
       "      <td>4</td>\n",
       "    </tr>\n",
       "  </tbody>\n",
       "</table>\n",
       "</div>"
      ],
      "text/plain": [
       "       Pred:-2 Pred:-1 Pred:0 Pred:1 Pred:2 Pred:3\n",
       "Act:-2       1       0      0      0      0      0\n",
       "Act:-1       0       3      1      0      0      0\n",
       "Act:0        0       0     11      0      0      0\n",
       "Act:1        0       0      3     10      2      0\n",
       "Act:2        0       0      0      0      5      0\n",
       "Act:3        0       0      1      0      0      4"
      ]
     },
     "execution_count": 25,
     "metadata": {},
     "output_type": "execute_result"
    }
   ],
   "source": [
    "# confusion maxtrix created\n",
    "matrix = confusion_matrix(rf_pred, y_test)\n",
    "conf_mat = pd.DataFrame(data=matrix, columns=[[\"Pred:-2\", \"Pred:-1\", \"Pred:0\", \"Pred:1\", \"Pred:2\", \"Pred:3\"]],\n",
    "                       index = [[\"Act:-2\", \"Act:-1\", \"Act:0\", \"Act:1\", \"Act:2\", \"Act:3\"]])\n",
    "conf_mat"
   ]
  }
 ],
 "metadata": {
  "kernelspec": {
   "display_name": "Python 3",
   "language": "python",
   "name": "python3"
  },
  "language_info": {
   "codemirror_mode": {
    "name": "ipython",
    "version": 3
   },
   "file_extension": ".py",
   "mimetype": "text/x-python",
   "name": "python",
   "nbconvert_exporter": "python",
   "pygments_lexer": "ipython3",
   "version": "3.7.3"
  }
 },
 "nbformat": 4,
 "nbformat_minor": 2
}
